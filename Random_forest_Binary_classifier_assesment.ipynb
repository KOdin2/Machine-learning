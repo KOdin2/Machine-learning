{
  "nbformat": 4,
  "nbformat_minor": 0,
  "metadata": {
    "colab": {
      "name": "Random forest Binary classifier assesment",
      "provenance": [],
      "collapsed_sections": [],
      "authorship_tag": "ABX9TyNW6SuM8C6oMzE4T3BZXhxI",
      "include_colab_link": true
    },
    "kernelspec": {
      "name": "python3",
      "display_name": "Python 3"
    },
    "language_info": {
      "name": "python"
    }
  },
  "cells": [
    {
      "cell_type": "markdown",
      "metadata": {
        "id": "view-in-github",
        "colab_type": "text"
      },
      "source": [
        "<a href=\"https://colab.research.google.com/github/KOdin2/Machine-learning/blob/main/Random_forest_Binary_classifier_assesment.ipynb\" target=\"_parent\"><img src=\"https://colab.research.google.com/assets/colab-badge.svg\" alt=\"Open In Colab\"/></a>"
      ]
    },
    {
      "cell_type": "code",
      "metadata": {
        "id": "v9GmNtOheAuq"
      },
      "source": [
        "import matplotlib.pyplot as plt\n",
        "import numpy as np\n",
        "import io\n",
        "import pandas as pd\n",
        "import sklearn\n",
        "import csv\n",
        "\n",
        "\n",
        "#####\n",
        "from sklearn.tree import DecisionTreeClassifier\n",
        "from sklearn.ensemble import RandomForestClassifier\n",
        "from sklearn.model_selection import GridSearchCV\n",
        "from sklearn.svm import SVC\n",
        "from sklearn.feature_selection import RFECV\n",
        "from sklearn.model_selection import StratifiedKFold\n",
        "from sklearn.model_selection import cross_val_predict\n",
        "from sklearn.metrics import f1_score\n",
        "from sklearn.metrics import confusion_matrix\n",
        "from sklearn.metrics import precision_score, recall_score\n",
        "from sklearn.preprocessing import MinMaxScaler\n",
        "from sklearn.model_selection import GridSearchCV"
      ],
      "execution_count": 1,
      "outputs": []
    },
    {
      "cell_type": "code",
      "metadata": {
        "colab": {
          "resources": {
            "http://localhost:8080/nbextensions/google.colab/files.js": {
              "data": "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",
              "ok": true,
              "headers": [
                [
                  "content-type",
                  "application/javascript"
                ]
              ],
              "status": 200,
              "status_text": ""
            }
          },
          "base_uri": "https://localhost:8080/",
          "height": 72
        },
        "id": "DOLCNaj8eLnw",
        "outputId": "92c6f5ac-03e8-4b49-d241-202f8c54ac6b"
      },
      "source": [
        "from google.colab import files\n",
        "uploaded = files.upload()"
      ],
      "execution_count": 2,
      "outputs": [
        {
          "output_type": "display_data",
          "data": {
            "text/html": [
              "\n",
              "     <input type=\"file\" id=\"files-af00c809-d0fa-4ef9-8fbb-3b54fa48ccee\" name=\"files[]\" multiple disabled\n",
              "        style=\"border:none\" />\n",
              "     <output id=\"result-af00c809-d0fa-4ef9-8fbb-3b54fa48ccee\">\n",
              "      Upload widget is only available when the cell has been executed in the\n",
              "      current browser session. Please rerun this cell to enable.\n",
              "      </output>\n",
              "      <script src=\"/nbextensions/google.colab/files.js\"></script> "
            ],
            "text/plain": [
              "<IPython.core.display.HTML object>"
            ]
          },
          "metadata": {
            "tags": []
          }
        },
        {
          "output_type": "stream",
          "text": [
            "Saving SSteel_25-75WF_dataset.csv to SSteel_25-75WF_dataset.csv\n"
          ],
          "name": "stdout"
        }
      ]
    },
    {
      "cell_type": "markdown",
      "metadata": {
        "id": "zXLnjg8sRn8S"
      },
      "source": [
        "Best measurements to use for classification are:\n",
        "\n",
        "precision,\n",
        "recall,\n",
        "accuracy,\n",
        "f1,\n",
        "roc_auc\n"
      ]
    },
    {
      "cell_type": "code",
      "metadata": {
        "id": "Xcacs_-Qj9jy",
        "cellView": "form"
      },
      "source": [
        "#@title Functions\n",
        "\n",
        "def grid_search_RF_function(x_train, y_train, feature_combinations, varible_combinations, number_of_cv_folds, best_results, x_train_df):\n",
        "\n",
        "  Algorithm = \"Random Forest\"\n",
        "  forest_reg = RandomForestClassifier(random_state=0)\n",
        "\n",
        "  #Set up parameter grid\n",
        "  param_grid = [\n",
        "      {'bootstrap': [False], 'n_estimators': varible_combinations, 'max_features': feature_combinations}\n",
        "  ]\n",
        "\n",
        "  #scoring_type can be used to choose what method to compare the models on\n",
        "  scoring_type = 'f1'\n",
        "\n",
        "  print(\"Number of fold: \" + str(number_of_cv_folds))\n",
        "  \n",
        "  grid_search = GridSearchCV(estimator= forest_reg, param_grid= param_grid,  cv= number_of_cv_folds , scoring=scoring_type,  return_train_score=True, n_jobs=-1)\n",
        "\n",
        "  grid_search.fit(X= x_train, y= y_train)\n",
        "\n",
        "  best_paramater = grid_search.best_params_\n",
        "\n",
        "  print(\"[INFO]Best paramter: \" + str(best_paramater))\n",
        "\n",
        "  #find best score and round to 2dp\n",
        "  best_accuracy = round(grid_search.best_score_,2)\n",
        "\n",
        "  ######Calculate the features ranked as best dependent on grid search result#######\n",
        "\n",
        "  #This code works out the best features from the parameters given above\n",
        "  estimator = RandomForestClassifier(random_state=0, n_estimators =  best_paramater['n_estimators'], bootstrap = best_paramater['bootstrap'])\n",
        "\n",
        "  selector = RFECV(estimator, step=1, cv= number_of_cv_folds, scoring = scoring_type)\n",
        "  selector = selector.fit(x_train, y_train)\n",
        "\n",
        "  ranked_features = selector.ranking_\n",
        "  print(\"[INFO] Rnk of all features: \" + str(ranked_features))\n",
        "\n",
        "  #create list to store important features\n",
        "  most_important_features = []\n",
        "\n",
        "  #aqrure the index of all values which have 1 as their ranking\n",
        "  feat_index = np.where(ranked_features == 1)\n",
        "  print(\"[INFO] Rank 1 features index: \" + str(feat_index))\n",
        "  #append the best featurees to the list\n",
        "  for value in feat_index:\n",
        "    most_important_features.append(x_train_df.columns[value])\n",
        "\n",
        "  #Append results to \n",
        "  best_results.append([ Algorithm,\n",
        "                       best_paramater['n_estimators'],                     \n",
        "                      scoring_type,\n",
        "                      best_accuracy,\n",
        "                      best_paramater['max_features'],\n",
        "                      \n",
        "  ])\n",
        "\n",
        "  best_results.append([\n",
        "                      most_important_features])\n",
        "           \n",
        "  return best_results.append\n",
        "\n",
        "def testing_combination_arrays(x_train_varible, max_varible):\n",
        "\n",
        "  x_train_columns = x_train_varible.shape[1]\n",
        "  x_train_columns = int(round((x_train_columns/2),0))\n",
        "  print(\"[INFO] Number of max features: \" + str(x_train_columns))\n",
        "  feature_combinations = [] \n",
        "  varible_combinations = []\n",
        "\n",
        "  a = 1\n",
        "  for value in range(0,x_train_columns):\n",
        "    feature_combinations.append(a) \n",
        "    a+=1 \n",
        "\n",
        "  b = 1\n",
        "  for value in range(0, max_varible):\n",
        "    varible_combinations.append(b) \n",
        "    b+=1\n",
        "\n",
        "  return feature_combinations, varible_combinations\n",
        "\n",
        "\n",
        "def calculate_cross_validation_value(y_train):\n",
        "\n",
        "  arr = y_train.to_numpy()\n",
        "  bin_arr = np.bincount(arr)\n",
        "  return bin_arr.min()"
      ],
      "execution_count": 3,
      "outputs": []
    },
    {
      "cell_type": "code",
      "metadata": {
        "id": "tzSWN1xihqF_"
      },
      "source": [
        "#@title Functions\n",
        "\n",
        "def grid_search_RF_function(x_train, y_train, feature_combinations, varible_combinations, number_of_cv_folds, best_results, x_train_df):\n",
        "\n",
        "  best_results=[]\n",
        "  Algorithm = \"Random Forest\"\n",
        "  forest_reg = RandomForestClassifier(random_state=0,bootstrap = False)\n",
        "\n",
        "  #Set up parameter grid\n",
        "  param_grid = [\n",
        "      {'bootstrap': [False], 'n_estimators': varible_combinations, 'max_features': feature_combinations}\n",
        "  ]\n",
        "\n",
        "  #scoring_type can be used to choose what method to compare the models on\n",
        "  scoring_type = 'f1'\n",
        "\n",
        "  print(\"[INFO] Number of fold: \" + str(number_of_cv_folds))\n",
        "  \n",
        "  grid_search = GridSearchCV(estimator= forest_reg, param_grid= param_grid,  cv= number_of_cv_folds , scoring=scoring_type,  return_train_score=True, n_jobs=-1)\n",
        "\n",
        "  grid_search.fit(X= x_train, y= y_train)\n",
        "\n",
        "  #Aquire best parameter for model\n",
        "  best_paramater = grid_search.best_params_\n",
        "  print(\"[INFO] Best parameter: \" + str(best_paramater))\n",
        "\n",
        "  #find best score and round to 4dp\n",
        "  best_accuracy = round(grid_search.best_score_,4)\n",
        "  print(\"[INFO] Score: \" + str(best_accuracy))\n",
        "  #Append results to \n",
        "  best_results.append([ Algorithm,\n",
        "                        scoring_type,\n",
        "                        best_accuracy,\n",
        "                        best_paramater['n_estimators'],\n",
        "                        best_paramater['max_features'],\n",
        "                      \n",
        "  ])\n",
        "\n",
        "\n",
        "  return best_results, best_paramater"
      ],
      "execution_count": 4,
      "outputs": []
    },
    {
      "cell_type": "code",
      "metadata": {
        "id": "B1FE27ADixt0"
      },
      "source": [
        "def get_best_model_input_data(x_train, y_train, number_of_cv_folds, best_paramater, best_results, x_train_df):\n",
        "\n",
        "  model_check = []\n",
        "  best_features =  []\n",
        "  #create the best best model and fit with data to see inputs used\n",
        "  RF = RandomForestClassifier(random_state=0, n_estimators = best_paramater['n_estimators'], bootstrap = best_paramater['bootstrap'], max_features = best_paramater['max_features'] )\n",
        "  RF = RF.fit(x_train, y_train)\n",
        "\n",
        "  bad_input = []\n",
        "\n",
        "  #Aquire the festes that are important\n",
        "  Feature_importance = RF.feature_importances_\n",
        "  #copy dataframe so values can be removed\n",
        "  updated_x_train = x_train_df.copy()\n",
        "\n",
        "  a = 0\n",
        "  #Every feauture which has 0 value is removed\n",
        "  for value in Feature_importance:\n",
        "    if(value == 0):\n",
        "      bad_input.append(x_train_df.columns[a])\n",
        "    a+=1\n",
        "\n",
        "  print(\"[INFO] Number of removed inputs: \" + str(len(bad_input)))\n",
        "\n",
        "  for value in bad_input:\n",
        "    updated_x_train = updated_x_train.drop([value], axis='columns')\n",
        "\n",
        "  updated_x_train_df = updated_x_train.copy()\n",
        "\n",
        "  #### Plot results of important features\n",
        "  importance = np.abs(RF.feature_importances_)\n",
        "  feature_names = np.array(x_train_df.columns)\n",
        "  f, ax = plt.subplots(figsize=(30,5))\n",
        "  plt.bar(height=importance, x=feature_names, )\n",
        "  plt.title(\"Feature importances via feature_importances_ for Random Forest\")\n",
        "  plt.xticks(rotation='vertical')\n",
        "  plt.show()\n",
        "\n",
        "\n",
        "  best_features.append(updated_x_train_df.columns)\n",
        "\n",
        "  scaler = MinMaxScaler()\n",
        "  x_train = scaler.fit_transform(updated_x_train)\n",
        " # model = RandomForestClassifier(random_state=0, n_estimators = best_paramater['n_estimators'], bootstrap = best_paramater['bootstrap'], max_features = best_paramater['max_features'] )\n",
        "  model = RandomForestClassifier(random_state=0, n_estimators = best_paramater['n_estimators'], bootstrap = best_paramater['bootstrap'], )\n",
        "\n",
        "  y_train_pred = cross_val_predict(model, x_train, y_train, cv=number_of_cv_folds)\n",
        "\n",
        "  conf = confusion_matrix(y_train, y_train_pred)\n",
        "  print(conf)\n",
        "  f1        = round(f1_score(y_train, y_train_pred), 4)\n",
        "  precision = round(precision_score(y_train, y_train_pred), 4)\n",
        "  recall    = round(recall_score(y_train, y_train_pred), 4)\n",
        "\n",
        "  print(\"F1 score\\tPurity\\t\\tRecovery\")\n",
        "  print(str(f1) + \"\\t\\t\" + str(precision) + \"\\t\\t\" + str(recall) )\n",
        "    \n",
        "  model_check.append([f1, precision, recall, conf])\n",
        "\n",
        "\n",
        "  return best_features, model_check"
      ],
      "execution_count": 5,
      "outputs": []
    },
    {
      "cell_type": "code",
      "metadata": {
        "id": "91WPaYXJCgeh"
      },
      "source": [
        "header = [\"Algorithm\", \"Scoring type\", \"Score\", \"Number of esitmators\",  \"Max features\"]\n",
        "model_check_header = [\"f1\", \"Purity\", \"Recovery\", \"Confusion matrix\"]\n",
        "best_features_header = [\"Imporant Features\"]"
      ],
      "execution_count": 6,
      "outputs": []
    },
    {
      "cell_type": "code",
      "metadata": {
        "id": "9R-WrbaweMll",
        "colab": {
          "base_uri": "https://localhost:8080/"
        },
        "outputId": "92d7ad53-baf1-4a09-a0dd-ff5c22cae1b2"
      },
      "source": [
        "best_results = []\n",
        "model_check = []\n",
        "best_features = []\n",
        "for key in uploaded:\n",
        "    print(\"File uploaded: \" +str(key))\n",
        "    loaded_file = pd.read_csv(io.BytesIO(uploaded[key]))\n",
        "    #loaded_file = loaded_file.abs()\n",
        "\n",
        "    x_train_df = loaded_file.drop(['Label'], axis='columns')\n",
        "    y_train = loaded_file.Label\n",
        "\n",
        "    #make data scaled between 0 and 1\n",
        "    scaler = MinMaxScaler()\n",
        "    x_train = scaler.fit_transform(x_train_df)\n",
        "\n",
        "    #calcualte the largest possible cross validation\n",
        "    number_of_cv_folds = calculate_cross_validation_value(y_train)\n",
        "    print(\"[INFO] Number of CV folds: \" + str(number_of_cv_folds))\n",
        "\n",
        "    #Calualte the all feature combinations and create list for vaible combinations\n",
        "    feature_combinations, varible_combinations = testing_combination_arrays(x_train, 20)\n",
        "    print(\"[INFO] Varible combinations: \" + str(varible_combinations))\n",
        "    print(\"[INFO] Feature combinations: \" + str(feature_combinations))\n",
        "\n",
        "    #Perform grid search for Random Forest \n",
        "    best_results, best_paramater = grid_search_RF_function(x_train, y_train, feature_combinations, varible_combinations, number_of_cv_folds, best_results, x_train_df)\n",
        "    best_features, model_check = get_best_model_input_data(x_train, y_train, number_of_cv_folds, best_paramater, best_results, x_train_df)\n",
        "\n",
        "\n",
        "    with open(str(key) + '_random_forest' +  '.csv', 'w', newline='') as file:\n",
        "        writer = csv.writer(file)\n",
        "        writer.writerow(header)\n",
        "        writer.writerows(best_results)\n",
        "        writer.writerow(model_check_header)\n",
        "        writer.writerows(model_check)\n",
        "        writer.writerow(best_features_header)\n",
        "        writer.writerows(best_features)\n",
        "\n",
        "    files.download(str(key) + '_random_forest' + '.csv') \n"
      ],
      "execution_count": null,
      "outputs": [
        {
          "output_type": "stream",
          "text": [
            "File uploaded: SSteel_25-75WF_dataset.csv\n",
            "[INFO] Number of CV folds: 14\n",
            "[INFO] Number of max features: 34\n",
            "[INFO] Varible combinations: [1, 2, 3, 4, 5, 6, 7, 8, 9, 10, 11, 12, 13, 14, 15, 16, 17, 18, 19, 20]\n",
            "[INFO] Feature combinations: [1, 2, 3, 4, 5, 6, 7, 8, 9, 10, 11, 12, 13, 14, 15, 16, 17, 18, 19, 20, 21, 22, 23, 24, 25, 26, 27, 28, 29, 30, 31, 32, 33, 34]\n",
            "[INFO] Number of fold: 14\n"
          ],
          "name": "stdout"
        }
      ]
    },
    {
      "cell_type": "code",
      "metadata": {
        "id": "FSjkLjOmz8sZ"
      },
      "source": [
        "\n"
      ],
      "execution_count": null,
      "outputs": []
    }
  ]
}