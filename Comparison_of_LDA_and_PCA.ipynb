{
  "nbformat": 4,
  "nbformat_minor": 0,
  "metadata": {
    "colab": {
      "name": "Comparison of LDA and PCA",
      "provenance": [],
      "collapsed_sections": [],
      "authorship_tag": "ABX9TyPyJoLLVlTFXQklhewlAlem",
      "include_colab_link": true
    },
    "kernelspec": {
      "name": "python3",
      "display_name": "Python 3"
    }
  },
  "cells": [
    {
      "cell_type": "markdown",
      "metadata": {
        "id": "view-in-github",
        "colab_type": "text"
      },
      "source": [
        "<a href=\"https://colab.research.google.com/github/KOdin2/Machine-learning/blob/pre-processing/Comparison_of_LDA_and_PCA.ipynb\" target=\"_parent\"><img src=\"https://colab.research.google.com/assets/colab-badge.svg\" alt=\"Open In Colab\"/></a>"
      ]
    },
    {
      "cell_type": "markdown",
      "metadata": {
        "id": "cTrLjzDSlNIo"
      },
      "source": [
        "**LDA and PCA transform**\n",
        "\n",
        "This notebook allows for the upload of a .csv file, which can then be transformed by LDA or PCA. The data will be split using K-fold cross validion, with K being a user choice.\n",
        "\n",
        "The difference in accuracy results will be compared\n"
      ]
    },
    {
      "cell_type": "code",
      "metadata": {
        "id": "4uhzC7mD9emL"
      },
      "source": [
        "import numpy as np\n",
        "from sklearn.model_selection import KFold\n",
        "import io\n",
        "import pandas as pd\n",
        "from matplotlib import pyplot as plt\n",
        "import seaborn as sns\n",
        "from sklearn.decomposition import PCA\n",
        "from sklearn.preprocessing import StandardScaler\n",
        "from sklearn.discriminant_analysis import LinearDiscriminantAnalysis as LDA\n",
        "from sklearn.svm import SVC\n",
        "from sklearn.metrics import confusion_matrix\n",
        "from sklearn.metrics import accuracy_score"
      ],
      "execution_count": 2,
      "outputs": []
    },
    {
      "cell_type": "markdown",
      "metadata": {
        "id": "FZe91Yk0mzh1"
      },
      "source": [
        "This cell will allow you to upload .csv files from your computer"
      ]
    },
    {
      "cell_type": "code",
      "metadata": {
        "colab": {
          "resources": {
            "http://localhost:8080/nbextensions/google.colab/files.js": {
              "data": "Ly8gQ29weXJpZ2h0IDIwMTcgR29vZ2xlIExMQwovLwovLyBMaWNlbnNlZCB1bmRlciB0aGUgQXBhY2hlIExpY2Vuc2UsIFZlcnNpb24gMi4wICh0aGUgIkxpY2Vuc2UiKTsKLy8geW91IG1heSBub3QgdXNlIHRoaXMgZmlsZSBleGNlcHQgaW4gY29tcGxpYW5jZSB3aXRoIHRoZSBMaWNlbnNlLgovLyBZb3UgbWF5IG9idGFpbiBhIGNvcHkgb2YgdGhlIExpY2Vuc2UgYXQKLy8KLy8gICAgICBodHRwOi8vd3d3LmFwYWNoZS5vcmcvbGljZW5zZXMvTElDRU5TRS0yLjAKLy8KLy8gVW5sZXNzIHJlcXVpcmVkIGJ5IGFwcGxpY2FibGUgbGF3IG9yIGFncmVlZCB0byBpbiB3cml0aW5nLCBzb2Z0d2FyZQovLyBkaXN0cmlidXRlZCB1bmRlciB0aGUgTGljZW5zZSBpcyBkaXN0cmlidXRlZCBvbiBhbiAiQVMgSVMiIEJBU0lTLAovLyBXSVRIT1VUIFdBUlJBTlRJRVMgT1IgQ09ORElUSU9OUyBPRiBBTlkgS0lORCwgZWl0aGVyIGV4cHJlc3Mgb3IgaW1wbGllZC4KLy8gU2VlIHRoZSBMaWNlbnNlIGZvciB0aGUgc3BlY2lmaWMgbGFuZ3VhZ2UgZ292ZXJuaW5nIHBlcm1pc3Npb25zIGFuZAovLyBsaW1pdGF0aW9ucyB1bmRlciB0aGUgTGljZW5zZS4KCi8qKgogKiBAZmlsZW92ZXJ2aWV3IEhlbHBlcnMgZm9yIGdvb2dsZS5jb2xhYiBQeXRob24gbW9kdWxlLgogKi8KKGZ1bmN0aW9uKHNjb3BlKSB7CmZ1bmN0aW9uIHNwYW4odGV4dCwgc3R5bGVBdHRyaWJ1dGVzID0ge30pIHsKICBjb25zdCBlbGVtZW50ID0gZG9jdW1lbnQuY3JlYXRlRWxlbWVudCgnc3BhbicpOwogIGVsZW1lbnQudGV4dENvbnRlbnQgPSB0ZXh0OwogIGZvciAoY29uc3Qga2V5IG9mIE9iamVjdC5rZXlzKHN0eWxlQXR0cmlidXRlcykpIHsKICAgIGVsZW1lbnQuc3R5bGVba2V5XSA9IHN0eWxlQXR0cmlidXRlc1trZXldOwogIH0KICByZXR1cm4gZWxlbWVudDsKfQoKLy8gTWF4IG51bWJlciBvZiBieXRlcyB3aGljaCB3aWxsIGJlIHVwbG9hZGVkIGF0IGEgdGltZS4KY29uc3QgTUFYX1BBWUxPQURfU0laRSA9IDEwMCAqIDEwMjQ7CgpmdW5jdGlvbiBfdXBsb2FkRmlsZXMoaW5wdXRJZCwgb3V0cHV0SWQpIHsKICBjb25zdCBzdGVwcyA9IHVwbG9hZEZpbGVzU3RlcChpbnB1dElkLCBvdXRwdXRJZCk7CiAgY29uc3Qgb3V0cHV0RWxlbWVudCA9IGRvY3VtZW50LmdldEVsZW1lbnRCeUlkKG91dHB1dElkKTsKICAvLyBDYWNoZSBzdGVwcyBvbiB0aGUgb3V0cHV0RWxlbWVudCB0byBtYWtlIGl0IGF2YWlsYWJsZSBmb3IgdGhlIG5leHQgY2FsbAogIC8vIHRvIHVwbG9hZEZpbGVzQ29udGludWUgZnJvbSBQeXRob24uCiAgb3V0cHV0RWxlbWVudC5zdGVwcyA9IHN0ZXBzOwoKICByZXR1cm4gX3VwbG9hZEZpbGVzQ29udGludWUob3V0cHV0SWQpOwp9CgovLyBUaGlzIGlzIHJvdWdobHkgYW4gYXN5bmMgZ2VuZXJhdG9yIChub3Qgc3VwcG9ydGVkIGluIHRoZSBicm93c2VyIHlldCksCi8vIHdoZXJlIHRoZXJlIGFyZSBtdWx0aXBsZSBhc3luY2hyb25vdXMgc3RlcHMgYW5kIHRoZSBQeXRob24gc2lkZSBpcyBnb2luZwovLyB0byBwb2xsIGZvciBjb21wbGV0aW9uIG9mIGVhY2ggc3RlcC4KLy8gVGhpcyB1c2VzIGEgUHJvbWlzZSB0byBibG9jayB0aGUgcHl0aG9uIHNpZGUgb24gY29tcGxldGlvbiBvZiBlYWNoIHN0ZXAsCi8vIHRoZW4gcGFzc2VzIHRoZSByZXN1bHQgb2YgdGhlIHByZXZpb3VzIHN0ZXAgYXMgdGhlIGlucHV0IHRvIHRoZSBuZXh0IHN0ZXAuCmZ1bmN0aW9uIF91cGxvYWRGaWxlc0NvbnRpbnVlKG91dHB1dElkKSB7CiAgY29uc3Qgb3V0cHV0RWxlbWVudCA9IGRvY3VtZW50LmdldEVsZW1lbnRCeUlkKG91dHB1dElkKTsKICBjb25zdCBzdGVwcyA9IG91dHB1dEVsZW1lbnQuc3RlcHM7CgogIGNvbnN0IG5leHQgPSBzdGVwcy5uZXh0KG91dHB1dEVsZW1lbnQubGFzdFByb21pc2VWYWx1ZSk7CiAgcmV0dXJuIFByb21pc2UucmVzb2x2ZShuZXh0LnZhbHVlLnByb21pc2UpLnRoZW4oKHZhbHVlKSA9PiB7CiAgICAvLyBDYWNoZSB0aGUgbGFzdCBwcm9taXNlIHZhbHVlIHRvIG1ha2UgaXQgYXZhaWxhYmxlIHRvIHRoZSBuZXh0CiAgICAvLyBzdGVwIG9mIHRoZSBnZW5lcmF0b3IuCiAgICBvdXRwdXRFbGVtZW50Lmxhc3RQcm9taXNlVmFsdWUgPSB2YWx1ZTsKICAgIHJldHVybiBuZXh0LnZhbHVlLnJlc3BvbnNlOwogIH0pOwp9CgovKioKICogR2VuZXJhdG9yIGZ1bmN0aW9uIHdoaWNoIGlzIGNhbGxlZCBiZXR3ZWVuIGVhY2ggYXN5bmMgc3RlcCBvZiB0aGUgdXBsb2FkCiAqIHByb2Nlc3MuCiAqIEBwYXJhbSB7c3RyaW5nfSBpbnB1dElkIEVsZW1lbnQgSUQgb2YgdGhlIGlucHV0IGZpbGUgcGlja2VyIGVsZW1lbnQuCiAqIEBwYXJhbSB7c3RyaW5nfSBvdXRwdXRJZCBFbGVtZW50IElEIG9mIHRoZSBvdXRwdXQgZGlzcGxheS4KICogQHJldHVybiB7IUl0ZXJhYmxlPCFPYmplY3Q+fSBJdGVyYWJsZSBvZiBuZXh0IHN0ZXBzLgogKi8KZnVuY3Rpb24qIHVwbG9hZEZpbGVzU3RlcChpbnB1dElkLCBvdXRwdXRJZCkgewogIGNvbnN0IGlucHV0RWxlbWVudCA9IGRvY3VtZW50LmdldEVsZW1lbnRCeUlkKGlucHV0SWQpOwogIGlucHV0RWxlbWVudC5kaXNhYmxlZCA9IGZhbHNlOwoKICBjb25zdCBvdXRwdXRFbGVtZW50ID0gZG9jdW1lbnQuZ2V0RWxlbWVudEJ5SWQob3V0cHV0SWQpOwogIG91dHB1dEVsZW1lbnQuaW5uZXJIVE1MID0gJyc7CgogIGNvbnN0IHBpY2tlZFByb21pc2UgPSBuZXcgUHJvbWlzZSgocmVzb2x2ZSkgPT4gewogICAgaW5wdXRFbGVtZW50LmFkZEV2ZW50TGlzdGVuZXIoJ2NoYW5nZScsIChlKSA9PiB7CiAgICAgIHJlc29sdmUoZS50YXJnZXQuZmlsZXMpOwogICAgfSk7CiAgfSk7CgogIGNvbnN0IGNhbmNlbCA9IGRvY3VtZW50LmNyZWF0ZUVsZW1lbnQoJ2J1dHRvbicpOwogIGlucHV0RWxlbWVudC5wYXJlbnRFbGVtZW50LmFwcGVuZENoaWxkKGNhbmNlbCk7CiAgY2FuY2VsLnRleHRDb250ZW50ID0gJ0NhbmNlbCB1cGxvYWQnOwogIGNvbnN0IGNhbmNlbFByb21pc2UgPSBuZXcgUHJvbWlzZSgocmVzb2x2ZSkgPT4gewogICAgY2FuY2VsLm9uY2xpY2sgPSAoKSA9PiB7CiAgICAgIHJlc29sdmUobnVsbCk7CiAgICB9OwogIH0pOwoKICAvLyBXYWl0IGZvciB0aGUgdXNlciB0byBwaWNrIHRoZSBmaWxlcy4KICBjb25zdCBmaWxlcyA9IHlpZWxkIHsKICAgIHByb21pc2U6IFByb21pc2UucmFjZShbcGlja2VkUHJvbWlzZSwgY2FuY2VsUHJvbWlzZV0pLAogICAgcmVzcG9uc2U6IHsKICAgICAgYWN0aW9uOiAnc3RhcnRpbmcnLAogICAgfQogIH07CgogIGNhbmNlbC5yZW1vdmUoKTsKCiAgLy8gRGlzYWJsZSB0aGUgaW5wdXQgZWxlbWVudCBzaW5jZSBmdXJ0aGVyIHBpY2tzIGFyZSBub3QgYWxsb3dlZC4KICBpbnB1dEVsZW1lbnQuZGlzYWJsZWQgPSB0cnVlOwoKICBpZiAoIWZpbGVzKSB7CiAgICByZXR1cm4gewogICAgICByZXNwb25zZTogewogICAgICAgIGFjdGlvbjogJ2NvbXBsZXRlJywKICAgICAgfQogICAgfTsKICB9CgogIGZvciAoY29uc3QgZmlsZSBvZiBmaWxlcykgewogICAgY29uc3QgbGkgPSBkb2N1bWVudC5jcmVhdGVFbGVtZW50KCdsaScpOwogICAgbGkuYXBwZW5kKHNwYW4oZmlsZS5uYW1lLCB7Zm9udFdlaWdodDogJ2JvbGQnfSkpOwogICAgbGkuYXBwZW5kKHNwYW4oCiAgICAgICAgYCgke2ZpbGUudHlwZSB8fCAnbi9hJ30pIC0gJHtmaWxlLnNpemV9IGJ5dGVzLCBgICsKICAgICAgICBgbGFzdCBtb2RpZmllZDogJHsKICAgICAgICAgICAgZmlsZS5sYXN0TW9kaWZpZWREYXRlID8gZmlsZS5sYXN0TW9kaWZpZWREYXRlLnRvTG9jYWxlRGF0ZVN0cmluZygpIDoKICAgICAgICAgICAgICAgICAgICAgICAgICAgICAgICAgICAgJ24vYSd9IC0gYCkpOwogICAgY29uc3QgcGVyY2VudCA9IHNwYW4oJzAlIGRvbmUnKTsKICAgIGxpLmFwcGVuZENoaWxkKHBlcmNlbnQpOwoKICAgIG91dHB1dEVsZW1lbnQuYXBwZW5kQ2hpbGQobGkpOwoKICAgIGNvbnN0IGZpbGVEYXRhUHJvbWlzZSA9IG5ldyBQcm9taXNlKChyZXNvbHZlKSA9PiB7CiAgICAgIGNvbnN0IHJlYWRlciA9IG5ldyBGaWxlUmVhZGVyKCk7CiAgICAgIHJlYWRlci5vbmxvYWQgPSAoZSkgPT4gewogICAgICAgIHJlc29sdmUoZS50YXJnZXQucmVzdWx0KTsKICAgICAgfTsKICAgICAgcmVhZGVyLnJlYWRBc0FycmF5QnVmZmVyKGZpbGUpOwogICAgfSk7CiAgICAvLyBXYWl0IGZvciB0aGUgZGF0YSB0byBiZSByZWFkeS4KICAgIGxldCBmaWxlRGF0YSA9IHlpZWxkIHsKICAgICAgcHJvbWlzZTogZmlsZURhdGFQcm9taXNlLAogICAgICByZXNwb25zZTogewogICAgICAgIGFjdGlvbjogJ2NvbnRpbnVlJywKICAgICAgfQogICAgfTsKCiAgICAvLyBVc2UgYSBjaHVua2VkIHNlbmRpbmcgdG8gYXZvaWQgbWVzc2FnZSBzaXplIGxpbWl0cy4gU2VlIGIvNjIxMTU2NjAuCiAgICBsZXQgcG9zaXRpb24gPSAwOwogICAgd2hpbGUgKHBvc2l0aW9uIDwgZmlsZURhdGEuYnl0ZUxlbmd0aCkgewogICAgICBjb25zdCBsZW5ndGggPSBNYXRoLm1pbihmaWxlRGF0YS5ieXRlTGVuZ3RoIC0gcG9zaXRpb24sIE1BWF9QQVlMT0FEX1NJWkUpOwogICAgICBjb25zdCBjaHVuayA9IG5ldyBVaW50OEFycmF5KGZpbGVEYXRhLCBwb3NpdGlvbiwgbGVuZ3RoKTsKICAgICAgcG9zaXRpb24gKz0gbGVuZ3RoOwoKICAgICAgY29uc3QgYmFzZTY0ID0gYnRvYShTdHJpbmcuZnJvbUNoYXJDb2RlLmFwcGx5KG51bGwsIGNodW5rKSk7CiAgICAgIHlpZWxkIHsKICAgICAgICByZXNwb25zZTogewogICAgICAgICAgYWN0aW9uOiAnYXBwZW5kJywKICAgICAgICAgIGZpbGU6IGZpbGUubmFtZSwKICAgICAgICAgIGRhdGE6IGJhc2U2NCwKICAgICAgICB9LAogICAgICB9OwogICAgICBwZXJjZW50LnRleHRDb250ZW50ID0KICAgICAgICAgIGAke01hdGgucm91bmQoKHBvc2l0aW9uIC8gZmlsZURhdGEuYnl0ZUxlbmd0aCkgKiAxMDApfSUgZG9uZWA7CiAgICB9CiAgfQoKICAvLyBBbGwgZG9uZS4KICB5aWVsZCB7CiAgICByZXNwb25zZTogewogICAgICBhY3Rpb246ICdjb21wbGV0ZScsCiAgICB9CiAgfTsKfQoKc2NvcGUuZ29vZ2xlID0gc2NvcGUuZ29vZ2xlIHx8IHt9OwpzY29wZS5nb29nbGUuY29sYWIgPSBzY29wZS5nb29nbGUuY29sYWIgfHwge307CnNjb3BlLmdvb2dsZS5jb2xhYi5fZmlsZXMgPSB7CiAgX3VwbG9hZEZpbGVzLAogIF91cGxvYWRGaWxlc0NvbnRpbnVlLAp9Owp9KShzZWxmKTsK",
              "ok": true,
              "headers": [
                [
                  "content-type",
                  "application/javascript"
                ]
              ],
              "status": 200,
              "status_text": ""
            }
          },
          "base_uri": "https://localhost:8080/",
          "height": 73
        },
        "id": "VGbuDfJO9o5L",
        "outputId": "1b71b803-1e09-4b6b-c43a-8fa1b576fa2c"
      },
      "source": [
        "from google.colab import files\n",
        "uploaded = files.upload()"
      ],
      "execution_count": 8,
      "outputs": [
        {
          "output_type": "display_data",
          "data": {
            "text/html": [
              "\n",
              "     <input type=\"file\" id=\"files-45fb761c-b226-4b2e-a7c7-32ab58174c56\" name=\"files[]\" multiple disabled\n",
              "        style=\"border:none\" />\n",
              "     <output id=\"result-45fb761c-b226-4b2e-a7c7-32ab58174c56\">\n",
              "      Upload widget is only available when the cell has been executed in the\n",
              "      current browser session. Please rerun this cell to enable.\n",
              "      </output>\n",
              "      <script src=\"/nbextensions/google.colab/files.js\"></script> "
            ],
            "text/plain": [
              "<IPython.core.display.HTML object>"
            ]
          },
          "metadata": {
            "tags": []
          }
        },
        {
          "output_type": "stream",
          "text": [
            "Saving All colours - Alu.csv to All colours - Alu.csv\n"
          ],
          "name": "stdout"
        }
      ]
    },
    {
      "cell_type": "code",
      "metadata": {
        "colab": {
          "base_uri": "https://localhost:8080/"
        },
        "id": "MEZWOQrK9_S-",
        "outputId": "04648289-e27e-4641-a653-cf9de23f7180"
      },
      "source": [
        "for key in uploaded:\n",
        "\n",
        "  #loads in the file and save to main_file\n",
        "  print(\"File uploaded: \" +str(key))\n",
        "  df = pd.read_csv(io.BytesIO(uploaded[key]))\n"
      ],
      "execution_count": 9,
      "outputs": [
        {
          "output_type": "stream",
          "text": [
            "File uploaded: All colours - Alu.csv\n"
          ],
          "name": "stdout"
        }
      ]
    },
    {
      "cell_type": "markdown",
      "metadata": {
        "id": "pMPKTd4tn_xl"
      },
      "source": [
        "This cell allows you to choose the number of K-fold splits you want to use. The random state is also choosen which allows the data to be split and shuffled the same every time: https://scikit-learn.org/stable/modules/generated/sklearn.model_selection.KFold.html"
      ]
    },
    {
      "cell_type": "code",
      "metadata": {
        "id": "GklX0bNpnkwL",
        "colab": {
          "base_uri": "https://localhost:8080/"
        },
        "outputId": "52505136-d5d5-47ba-e687-ebe3eab9cb90"
      },
      "source": [
        "number_of_splits    = int(input(\"Number of K-Fold splits: \"))\n",
        "random_state_value  = int(input(\"Random state value: \"))\n",
        "kf = KFold(n_splits=number_of_splits, shuffle=True, random_state = random_state_value)"
      ],
      "execution_count": 6,
      "outputs": [
        {
          "output_type": "stream",
          "text": [
            "Number of K-Fold splits: 10\n",
            "Random state value: 0\n"
          ],
          "name": "stdout"
        }
      ]
    },
    {
      "cell_type": "code",
      "metadata": {
        "colab": {
          "base_uri": "https://localhost:8080/"
        },
        "id": "iT-PII-8nqLb",
        "outputId": "49aaf6d0-7653-4a24-cde6-6bf869a2e218"
      },
      "source": [
        "#create varibles for the total accuracy of the classifcaton of the data.\n",
        "total_acc = lda_total_acc = pca_total_acc = 0\n",
        "total_cm = lda_total_cm = pca_total_cm = 0\n",
        "\n",
        "#assign and X and y (data and labels)\n",
        "X = df[df.columns[1:len(df.columns)]] \n",
        "X = X.abs()\n",
        "y = df.iloc[:,0]\n",
        "\n",
        "for train_index, test_index in kf.split(df):\n",
        "  #assign the train and test varibles\n",
        "  x_train = X.iloc[train_index]\n",
        "  x_test = X.iloc[test_index]\n",
        "  y_train = y[train_index]\n",
        "  y_test = y[test_index]\n",
        "\n",
        "  #standarise the data: https://scikit-learn.org/stable/modules/generated/sklearn.preprocessing.StandardScaler.html\n",
        "  scaler  = StandardScaler()\n",
        "  x_train = scaler.fit_transform(x_train)\n",
        "  x_test  = scaler.transform(x_test)\n",
        "\n",
        "  #Used the train data set to transform the test dataset with LDA: https://scikit-learn.org/stable/modules/lda_qda.html#lda-qda\n",
        "  lda = LDA(n_components=1)\n",
        "  lda_x_train = lda.fit_transform(x_train, y_train)\n",
        "  lda_x_test = lda.transform(x_test)\n",
        "\n",
        "  #Used the train data set to transform the test dataset with PCA: https://scikit-learn.org/stable/modules/generated/sklearn.decomposition.PCA.html\n",
        "  pca = PCA(n_components=1)\n",
        "  pca_x_train = pca.fit_transform(x_train, y_train)\n",
        "  pca_x_test = pca.transform(x_test)\n",
        "\n",
        "  #use a SVM classifer to predict using the train and test data set: https://scikit-learn.org/stable/modules/generated/sklearn.svm.SVC.html\n",
        "  classifier =SVC(C=1, kernel='linear', random_state=0 )\n",
        "  \n",
        "  #predict the accuracy of the orginal data\n",
        "  classifier.fit(x_train, y_train)\n",
        "  y_pred = classifier.predict(x_test)\n",
        "\n",
        "  #predict the accuracy of the LDA data\n",
        "  classifier.fit(lda_x_train, y_train)\n",
        "  lda_y_pred = classifier.predict(lda_x_test)\n",
        "\n",
        "  #predict the accuracyb of the PCA data\n",
        "  classifier.fit(pca_x_train, y_train)\n",
        "  pca_y_pred = classifier.predict(pca_x_test)\n",
        "\n",
        "  #create and print the confusion matrix\n",
        "  cm = confusion_matrix(y_test, y_pred)\n",
        "  acc = round(accuracy_score(y_test, y_pred),2)\n",
        "  total_cm = total_cm + cm\n",
        "\n",
        "  cm = confusion_matrix(y_test, lda_y_pred)\n",
        "  lda_acc = round( accuracy_score(y_test, lda_y_pred),2)\n",
        "  lda_total_cm = lda_total_cm + cm\n",
        "\n",
        "  cm = confusion_matrix(y_test, pca_y_pred)\n",
        "  pca_acc = round( accuracy_score(y_test, pca_y_pred),2)\n",
        "  pca_total_cm = pca_total_cm + cm\n",
        "\n",
        "  total_acc     = total_acc     + acc\n",
        "  lda_total_acc = lda_total_acc + lda_acc\n",
        "  pca_total_acc = pca_total_acc + pca_acc\n",
        "\n",
        "  #plots scatter grpahs \n",
        "  #plt.scatter(lda_x_test, np.zeros_like(lda_x_test), c = y_test, cmap=\"hot_r\", vmin=-2 )\n",
        "  #plt.yticks([])\n",
        "  #plt.title(\"LDA\")\n",
        "  #plt.show()\n",
        "\n",
        "  #plt.scatter(pca_x_test, np.zeros_like(pca_x_test), c = y_test, cmap=\"hot_r\", vmin=-2 )\n",
        "  #plt.yticks([])\n",
        "  #plt.title(\"PCA\")\n",
        "  #plt.show()\n",
        "\n",
        "  print('Data accuracy: ' + str(acc)+ ' LDA accuracy: ' + str(acc)   +   ' PCA accuracy: ' + str(pca_acc))\n",
        "\n",
        "#print the overall accuracy of the final confusion matrix and the confusion matrix\n",
        "print(\"\\nTotal accuracy of data: \" + str(overall_accuracy_cal(total_cm)))\n",
        "print(total_cm)\n",
        "\n",
        "print(\"Total accuracy of LDA: \" + str(overall_accuracy_cal(lda_total_cm)))\n",
        "print(lda_total_cm)\n",
        "\n",
        "print(\"Total accurcy of PCA: \" + str(overall_accuracy_cal(pca_total_cm)))\n",
        "print(pca_total_cm)"
      ],
      "execution_count": 62,
      "outputs": [
        {
          "output_type": "stream",
          "text": [
            "Data accuracy: 1.0 LDA accuracy: 1.0 PCA accuracy: 0.76\n",
            "Data accuracy: 1.0 LDA accuracy: 1.0 PCA accuracy: 0.88\n",
            "Data accuracy: 1.0 LDA accuracy: 1.0 PCA accuracy: 0.96\n",
            "Data accuracy: 1.0 LDA accuracy: 1.0 PCA accuracy: 0.92\n",
            "Data accuracy: 0.96 LDA accuracy: 0.96 PCA accuracy: 0.96\n",
            "Data accuracy: 1.0 LDA accuracy: 1.0 PCA accuracy: 0.84\n",
            "Data accuracy: 1.0 LDA accuracy: 1.0 PCA accuracy: 0.83\n",
            "Data accuracy: 1.0 LDA accuracy: 1.0 PCA accuracy: 0.79\n",
            "Data accuracy: 1.0 LDA accuracy: 1.0 PCA accuracy: 0.92\n",
            "Data accuracy: 1.0 LDA accuracy: 1.0 PCA accuracy: 1.0\n",
            "\n",
            "Total accuracy of data: 0.9959\n",
            "[[198   0]\n",
            " [  1  47]]\n",
            "Total accuracy of LDA: 0.9797\n",
            "[[197   1]\n",
            " [  4  44]]\n",
            "Total accurcy of PCA: 0.8862\n",
            "[[187  11]\n",
            " [ 17  31]]\n"
          ],
          "name": "stdout"
        }
      ]
    },
    {
      "cell_type": "code",
      "metadata": {
        "colab": {
          "base_uri": "https://localhost:8080/"
        },
        "id": "gLHqJyjpuT3o",
        "outputId": "37a39d39-0b72-4f59-c6b9-1fa65e171bc3"
      },
      "source": [
        "print(total_cm)\n",
        "\n",
        "print(lda_total_cm)\n",
        "\n",
        "print(pca_total_cm)"
      ],
      "execution_count": 36,
      "outputs": [
        {
          "output_type": "stream",
          "text": [
            "[[198   0]\n",
            " [  1  47]]\n",
            "[[197   1]\n",
            " [  4  44]]\n",
            "[[187  11]\n",
            " [ 17  31]]\n"
          ],
          "name": "stdout"
        }
      ]
    },
    {
      "cell_type": "code",
      "metadata": {
        "id": "M50ev-91wdyG"
      },
      "source": [
        "def overall_accuracy_cal(conf):\n",
        "\n",
        "  a = 0\n",
        "  total_samples = np.sum(conf)\n",
        "  total_trues = 0\n",
        "\n",
        "  for row in conf:\n",
        "    total_trues += row[a]\n",
        "    a+=1\n",
        "\n",
        "  overall_accuracy = round(total_trues/total_samples,4)\n",
        "\n",
        "  return overall_accuracy"
      ],
      "execution_count": 52,
      "outputs": []
    }
  ]
}